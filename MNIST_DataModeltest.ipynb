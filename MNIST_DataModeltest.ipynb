{
  "nbformat": 4,
  "nbformat_minor": 0,
  "metadata": {
    "colab": {
      "name": "MNIST-DataModeltest.ipynb",
      "provenance": [],
      "collapsed_sections": []
    },
    "kernelspec": {
      "name": "python3",
      "display_name": "Python 3"
    },
    "language_info": {
      "name": "python"
    }
  },
  "cells": [
    {
      "cell_type": "code",
      "metadata": {
        "id": "L4wz5J0JqJlQ"
      },
      "source": [
        "### CNN : Convolution Neural Network\n",
        "### mnist \n",
        "### Training data set / Test data set 7:3 6:4\n",
        "\n",
        "\n",
        "import tensorflow as tf\n",
        "(mnist_x, mnist_y), _ = tf.keras.datasets.mnist.load_data() \n"
      ],
      "execution_count": 28,
      "outputs": []
    },
    {
      "cell_type": "code",
      "metadata": {
        "colab": {
          "base_uri": "https://localhost:8080/"
        },
        "id": "Wq8ZK-l5rimb",
        "outputId": "59255746-7768-4968-911e-ec140a1e3740"
      },
      "source": [
        "print(mnist_x.shape, mnist_y.shape)"
      ],
      "execution_count": 29,
      "outputs": [
        {
          "output_type": "stream",
          "name": "stdout",
          "text": [
            "(60000, 28, 28) (60000,)\n"
          ]
        }
      ]
    },
    {
      "cell_type": "code",
      "metadata": {
        "colab": {
          "base_uri": "https://localhost:8080/"
        },
        "id": "ZH4ruysrsroo",
        "outputId": "8ae15255-d90b-4780-c0c2-2b08a33b1d80"
      },
      "source": [
        "print(mnist_y[0:10])"
      ],
      "execution_count": 30,
      "outputs": [
        {
          "output_type": "stream",
          "name": "stdout",
          "text": [
            "[5 0 4 1 9 2 1 3 1 4]\n"
          ]
        }
      ]
    },
    {
      "cell_type": "code",
      "metadata": {
        "colab": {
          "base_uri": "https://localhost:8080/",
          "height": 283
        },
        "id": "FvoW2PxTs9EG",
        "outputId": "bf2df745-1d18-42ea-e39e-4e09fd14d1c9"
      },
      "source": [
        "import matplotlib.pyplot as plt\n",
        "plt.imshow(mnist_x[0], cmap='gray') "
      ],
      "execution_count": 31,
      "outputs": [
        {
          "output_type": "execute_result",
          "data": {
            "text/plain": [
              "<matplotlib.image.AxesImage at 0x7f8c8d3c71d0>"
            ]
          },
          "metadata": {},
          "execution_count": 31
        },
        {
          "output_type": "display_data",
          "data": {
            "image/png": "[encoded data removed]",
            "text/plain": [
              "<Figure size 432x288 with 1 Axes>"
            ]
          },
          "metadata": {
            "needs_background": "light"
          }
        }
      ]
    },
    {
      "cell_type": "code",
      "metadata": {
        "colab": {
          "base_uri": "https://localhost:8080/"
        },
        "id": "Bn7ej-uWtpDO",
        "outputId": "3eda8bd2-b9dd-4c4c-c620-93d944987bc2"
      },
      "source": [
        "import numpy as np\n",
        "\n",
        "x1 = np.array([1,2,3,4,5]) \n",
        "print(x1.shape)\n",
        "print(mnist_y[0:5])\n",
        "print(mnist_y[0:5].shape)\n",
        "\n",
        "x2 = np.array([[1,2,3,4,5]])\n",
        "print(x2.shape)\n",
        "\n",
        "x3 = np.array([[1],[2],[3],[4],[5]])  \n",
        "print(x3.shape)\n"
      ],
      "execution_count": 5,
      "outputs": [
        {
          "output_type": "stream",
          "name": "stdout",
          "text": [
            "(5,)\n",
            "[5 0 4 1 9]\n",
            "(5,)\n",
            "(1, 5)\n",
            "(5, 1)\n"
          ]
        }
      ]
    },
    {
      "cell_type": "code",
      "metadata": {
        "colab": {
          "base_uri": "https://localhost:8080/"
        },
        "id": "HUY8VIkEp1oh",
        "outputId": "38a0847a-c036-4edf-87e7-83a1f77fc83e"
      },
      "source": [
        "\n",
        "import tensorflow as tf\n",
        "import pandas as pd\n",
        "print(mnist_x.shape, mnist_y.shape)\n",
        "\n",
        "mnist_x = mnist_x.reshape(60000, 28, 28, 1) # RGB\n",
        "mnist_y = pd.get_dummies(mnist_y) \n",
        "print(mnist_x.shape, mnist_y.shape)"
      ],
      "execution_count": 37,
      "outputs": [
        {
          "output_type": "stream",
          "name": "stdout",
          "text": [
            "(60000, 28, 28) (60000,)\n",
            "(60000, 28, 28, 1) (60000, 10)\n"
          ]
        }
      ]
    },
    {
      "cell_type": "code",
      "metadata": {
        "colab": {
          "base_uri": "https://localhost:8080/"
        },
        "id": "01nzZxQ54QVz",
        "outputId": "7d9c4c81-1a9c-4cf9-b867-054240e04440"
      },
      "source": [
        "mnist_y"
      ],
      "execution_count": 32,
      "outputs": [
        {
          "output_type": "execute_result",
          "data": {
            "text/plain": [
              "array([5, 0, 4, ..., 5, 6, 8], dtype=uint8)"
            ]
          },
          "metadata": {},
          "execution_count": 32
        }
      ]
    },
    {
      "cell_type": "code",
      "metadata": {
        "id": "Eco5sXKMk0vB"
      },
      "source": [
        "X = tf.keras.layers.Input(shape=[28,28,1])\n",
        "H = tf.keras.layers.Conv2D(3, kernel_size=5, activation='swish')(X)   \n",
        "H = tf.keras.layers.Conv2D(6, kernel_size=5, activation='swish')(H)\n",
        "H = tf.keras.layers.Flatten()(H) \n",
        "H = tf.keras.layers.Dense(84, activation='swish')(H)  \n",
        "Y = tf.keras.layers.Dense(10, activation='softmax')(H)  \n",
        "model = tf.keras.models.Model(X, Y)\n",
        "model.compile(loss='categorical_crossentropy', metrics='accuracy')"
      ],
      "execution_count": 38,
      "outputs": []
    },
    {
      "cell_type": "code",
      "metadata": {
        "colab": {
          "base_uri": "https://localhost:8080/"
        },
        "id": "X2eLHdd34bN8",
        "outputId": "27c2bcff-0ec0-4967-8668-af5d81731a5a"
      },
      "source": [
        "model.fit(mnist_x, mnist_y, epochs=10)"
      ],
      "execution_count": 39,
      "outputs": [
        {
          "output_type": "stream",
          "name": "stdout",
          "text": [
            "Epoch 1/10\n",
            "1875/1875 [==============================] - 49s 26ms/step - loss: 0.5354 - accuracy: 0.9324\n",
            "Epoch 2/10\n",
            "1875/1875 [==============================] - 49s 26ms/step - loss: 0.0802 - accuracy: 0.9776\n",
            "Epoch 3/10\n",
            "1875/1875 [==============================] - 49s 26ms/step - loss: 0.0533 - accuracy: 0.9855\n",
            "Epoch 4/10\n",
            "1875/1875 [==============================] - 49s 26ms/step - loss: 0.0363 - accuracy: 0.9902\n",
            "Epoch 5/10\n",
            "1875/1875 [==============================] - 49s 26ms/step - loss: 0.0285 - accuracy: 0.9926\n",
            "Epoch 6/10\n",
            "1875/1875 [==============================] - 49s 26ms/step - loss: 0.0237 - accuracy: 0.9937\n",
            "Epoch 7/10\n",
            "1875/1875 [==============================] - 49s 26ms/step - loss: 0.0211 - accuracy: 0.9947\n",
            "Epoch 8/10\n",
            "1875/1875 [==============================] - 50s 27ms/step - loss: 0.0178 - accuracy: 0.9952\n",
            "Epoch 9/10\n",
            "1875/1875 [==============================] - 50s 27ms/step - loss: 0.0163 - accuracy: 0.9958\n",
            "Epoch 10/10\n",
            "1875/1875 [==============================] - 50s 27ms/step - loss: 0.0164 - accuracy: 0.9959\n"
          ]
        },
        {
          "output_type": "execute_result",
          "data": {
            "text/plain": [
              "<keras.callbacks.History at 0x7f8c8d2241d0>"
            ]
          },
          "metadata": {},
          "execution_count": 39
        }
      ]
    }
  ]
}